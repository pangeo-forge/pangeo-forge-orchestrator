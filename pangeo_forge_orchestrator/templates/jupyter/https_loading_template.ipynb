{
 "cells": [
  {
   "cell_type": "code",
   "execution_count": 1,
   "id": "7345730a-39b6-4e46-92e7-d37a0ebda11f",
   "metadata": {
    "tags": [
     "parameters"
    ]
   },
   "outputs": [],
   "source": [
    "import pystac\n",
    "import fsspec\n",
    "import xarray as xr\n",
    "\n",
    "assert int(pystac.__version__[0]) == 1, \"pystac version must be >= 1.0.0\""
   ]
  },
  {
   "cell_type": "code",
   "execution_count": 3,
   "id": "99b76e77-3c54-4bc4-bee4-c8afe3873a02",
   "metadata": {},
   "outputs": [],
   "source": [
    "item = pystac.read_file(path)\n",
    "asset = item.assets[\"zarr-https\"]"
   ]
  },
  {
   "cell_type": "code",
   "execution_count": 4,
   "id": "9c429ce5-79a2-481a-8eaf-ba7805a81e45",
   "metadata": {},
   "outputs": [
    {
     "ename": "KeyError",
     "evalue": "'xarray:open_kwargs'",
     "output_type": "error",
     "traceback": [
      "\u001b[0;31m---------------------------------------------------------------------------\u001b[0m",
      "\u001b[0;31mKeyError\u001b[0m                                  Traceback (most recent call last)",
      "\u001b[0;32m/var/folders/mz/gxy_z7dx1k153xf0c3fks9_40000gp/T/ipykernel_4857/2272252178.py\u001b[0m in \u001b[0;36m<module>\u001b[0;34m\u001b[0m\n\u001b[0;32m----> 1\u001b[0;31m \u001b[0mds\u001b[0m \u001b[0;34m=\u001b[0m \u001b[0mxr\u001b[0m\u001b[0;34m.\u001b[0m\u001b[0mopen_zarr\u001b[0m\u001b[0;34m(\u001b[0m\u001b[0masset\u001b[0m\u001b[0;34m.\u001b[0m\u001b[0mhref\u001b[0m\u001b[0;34m,\u001b[0m \u001b[0;34m**\u001b[0m\u001b[0masset\u001b[0m\u001b[0;34m.\u001b[0m\u001b[0mextra_fields\u001b[0m\u001b[0;34m[\u001b[0m\u001b[0;34m\"xarray:open_kwargs\"\u001b[0m\u001b[0;34m]\u001b[0m\u001b[0;34m)\u001b[0m\u001b[0;34m\u001b[0m\u001b[0;34m\u001b[0m\u001b[0m\n\u001b[0m\u001b[1;32m      2\u001b[0m \u001b[0mds\u001b[0m\u001b[0;34m\u001b[0m\u001b[0;34m\u001b[0m\u001b[0m\n",
      "\u001b[0;31mKeyError\u001b[0m: 'xarray:open_kwargs'"
     ]
    }
   ],
   "source": [
    "ds = xr.open_zarr(asset.href, **asset.extra_fields[\"xarray:open_kwargs\"])\n",
    "ds"
   ]
  },
  {
   "cell_type": "code",
   "execution_count": null,
   "id": "f439c442-70a4-4d9f-8e4d-91d4968e2972",
   "metadata": {},
   "outputs": [],
   "source": []
  }
 ],
 "metadata": {
  "kernelspec": {
   "display_name": "pfo-poetry",
   "language": "python",
   "name": "pfo-poetry"
  },
  "language_info": {
   "codemirror_mode": {
    "name": "ipython",
    "version": 3
   },
   "file_extension": ".py",
   "mimetype": "text/x-python",
   "name": "python",
   "nbconvert_exporter": "python",
   "pygments_lexer": "ipython3",
   "version": "3.8.12"
  }
 },
 "nbformat": 4,
 "nbformat_minor": 5
}
