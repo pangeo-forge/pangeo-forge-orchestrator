{
 "cells": [
  {
   "cell_type": "code",
   "execution_count": null,
   "id": "7345730a-39b6-4e46-92e7-d37a0ebda11f",
   "metadata": {
    "tags": [
     "parameters"
    ]
   },
   "outputs": [],
   "source": [
    "import pystac\n",
    "import fsspec\n",
    "import xarray as xr\n",
    "\n",
    "assert int(pystac.__version__[0]) == 1, \"pystac version must be >= 1.0.0\""
   ]
  },
  {
   "cell_type": "code",
   "execution_count": null,
   "id": "99b76e77-3c54-4bc4-bee4-c8afe3873a02",
   "metadata": {},
   "outputs": [],
   "source": [
    "item = pystac.read_file(path)\n",
    "asset = item.assets[\"zarr-https\"]"
   ]
  },
  {
   "cell_type": "code",
   "execution_count": null,
   "id": "9c429ce5-79a2-481a-8eaf-ba7805a81e45",
   "metadata": {},
   "outputs": [],
   "source": [
    "ds = xr.open_zarr(asset.href, **asset.extra_fields[\"xarray:open_kwargs\"])\n",
    "ds"
   ]
  },
  {
   "cell_type": "code",
   "execution_count": null,
   "id": "f439c442-70a4-4d9f-8e4d-91d4968e2972",
   "metadata": {},
   "outputs": [],
   "source": []
  }
 ],
 "metadata": {
  "kernelspec": {
   "display_name": "pfo-poetry",
   "language": "python",
   "name": "pfo-poetry"
  },
  "language_info": {
   "codemirror_mode": {
    "name": "ipython",
    "version": 3
   },
   "file_extension": ".py",
   "mimetype": "text/x-python",
   "name": "python",
   "nbconvert_exporter": "python",
   "pygments_lexer": "ipython3",
   "version": "3.8.12"
  }
 },
 "nbformat": 4,
 "nbformat_minor": 5
}
