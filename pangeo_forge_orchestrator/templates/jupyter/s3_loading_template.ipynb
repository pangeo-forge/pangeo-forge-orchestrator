{
 "cells": [
  {
   "cell_type": "code",
   "execution_count": null,
   "id": "7d04caad-94f6-4f07-af33-ab7a057bc87e",
   "metadata": {
    "tags": [
     "parameters"
    ]
   },
   "outputs": [],
   "source": [
    "import pystac\n",
    "import fsspec\n",
    "import xarray as xr\n",
    "\n",
    "assert int(pystac.__version__[0]) == 1, \"pystac version must be >= 1.0.0\""
   ]
  },
  {
   "cell_type": "code",
   "execution_count": null,
   "id": "4feaf842-2152-43ce-8a0c-8990066140f8",
   "metadata": {},
   "outputs": [],
   "source": [
    "item = pystac.read_file(path)\n",
    "asset = item.assets[\"zarr-s3\"]\n",
    "store = fsspec.get_mapper(asset.href, **asset.extra_fields[\"xarray:storage_options\"])"
   ]
  },
  {
   "cell_type": "code",
   "execution_count": null,
   "id": "413fe01a-ac6d-470d-8e50-2dca9a3bf8e1",
   "metadata": {},
   "outputs": [],
   "source": [
    "ds = xr.open_zarr(store, **asset.extra_fields[\"xarray:open_kwargs\"])\n",
    "ds"
   ]
  }
 ],
 "metadata": {
  "kernelspec": {
   "display_name": "pfo-poetry",
   "language": "python",
   "name": "pfo-poetry"
  },
  "language_info": {
   "codemirror_mode": {
    "name": "ipython",
    "version": 3
   },
   "file_extension": ".py",
   "mimetype": "text/x-python",
   "name": "python",
   "nbconvert_exporter": "python",
   "pygments_lexer": "ipython3",
   "version": "3.8.12"
  }
 },
 "nbformat": 4,
 "nbformat_minor": 5
}
